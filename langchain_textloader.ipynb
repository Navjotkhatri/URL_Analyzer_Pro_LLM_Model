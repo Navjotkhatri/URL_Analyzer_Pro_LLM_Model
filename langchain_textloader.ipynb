{
 "cells": [
  {
   "cell_type": "code",
   "execution_count": 1,
   "id": "a054037a-ffc3-4bf6-bc21-177b96f7b6dd",
   "metadata": {},
   "outputs": [
    {
     "name": "stdout",
     "output_type": "stream",
     "text": [
      "Requirement already satisfied: langchain in c:\\users\\ajay khatri\\appdata\\local\\programs\\python\\python39\\lib\\site-packages (0.2.1)Note: you may need to restart the kernel to use updated packages.\n",
      "\n",
      "Requirement already satisfied: PyYAML>=5.3 in c:\\users\\ajay khatri\\appdata\\local\\programs\\python\\python39\\lib\\site-packages (from langchain) (6.0.1)\n",
      "Requirement already satisfied: SQLAlchemy<3,>=1.4 in c:\\users\\ajay khatri\\appdata\\local\\programs\\python\\python39\\lib\\site-packages (from langchain) (2.0.30)\n",
      "Requirement already satisfied: aiohttp<4.0.0,>=3.8.3 in c:\\users\\ajay khatri\\appdata\\local\\programs\\python\\python39\\lib\\site-packages (from langchain) (3.9.5)\n",
      "Requirement already satisfied: async-timeout<5.0.0,>=4.0.0 in c:\\users\\ajay khatri\\appdata\\local\\programs\\python\\python39\\lib\\site-packages (from langchain) (4.0.3)\n",
      "Requirement already satisfied: langchain-core<0.3.0,>=0.2.0 in c:\\users\\ajay khatri\\appdata\\local\\programs\\python\\python39\\lib\\site-packages (from langchain) (0.2.1)\n",
      "Requirement already satisfied: langchain-text-splitters<0.3.0,>=0.2.0 in c:\\users\\ajay khatri\\appdata\\local\\programs\\python\\python39\\lib\\site-packages (from langchain) (0.2.0)\n",
      "Requirement already satisfied: langsmith<0.2.0,>=0.1.17 in c:\\users\\ajay khatri\\appdata\\local\\programs\\python\\python39\\lib\\site-packages (from langchain) (0.1.63)\n",
      "Requirement already satisfied: numpy<2,>=1 in c:\\users\\ajay khatri\\appdata\\local\\programs\\python\\python39\\lib\\site-packages (from langchain) (1.26.4)\n",
      "Requirement already satisfied: pydantic<3,>=1 in c:\\users\\ajay khatri\\appdata\\local\\programs\\python\\python39\\lib\\site-packages (from langchain) (2.7.1)\n",
      "Requirement already satisfied: requests<3,>=2 in c:\\users\\ajay khatri\\appdata\\local\\programs\\python\\python39\\lib\\site-packages (from langchain) (2.32.2)\n",
      "Requirement already satisfied: tenacity<9.0.0,>=8.1.0 in c:\\users\\ajay khatri\\appdata\\local\\programs\\python\\python39\\lib\\site-packages (from langchain) (8.3.0)\n",
      "Requirement already satisfied: aiosignal>=1.1.2 in c:\\users\\ajay khatri\\appdata\\local\\programs\\python\\python39\\lib\\site-packages (from aiohttp<4.0.0,>=3.8.3->langchain) (1.3.1)\n",
      "Requirement already satisfied: attrs>=17.3.0 in c:\\users\\ajay khatri\\appdata\\local\\programs\\python\\python39\\lib\\site-packages (from aiohttp<4.0.0,>=3.8.3->langchain) (23.2.0)\n",
      "Requirement already satisfied: frozenlist>=1.1.1 in c:\\users\\ajay khatri\\appdata\\local\\programs\\python\\python39\\lib\\site-packages (from aiohttp<4.0.0,>=3.8.3->langchain) (1.4.1)\n",
      "Requirement already satisfied: multidict<7.0,>=4.5 in c:\\users\\ajay khatri\\appdata\\local\\programs\\python\\python39\\lib\\site-packages (from aiohttp<4.0.0,>=3.8.3->langchain) (6.0.5)\n",
      "Requirement already satisfied: yarl<2.0,>=1.0 in c:\\users\\ajay khatri\\appdata\\local\\programs\\python\\python39\\lib\\site-packages (from aiohttp<4.0.0,>=3.8.3->langchain) (1.9.4)\n",
      "Requirement already satisfied: jsonpatch<2.0,>=1.33 in c:\\users\\ajay khatri\\appdata\\local\\programs\\python\\python39\\lib\\site-packages (from langchain-core<0.3.0,>=0.2.0->langchain) (1.33)\n",
      "Requirement already satisfied: packaging<24.0,>=23.2 in c:\\users\\ajay khatri\\appdata\\local\\programs\\python\\python39\\lib\\site-packages (from langchain-core<0.3.0,>=0.2.0->langchain) (23.2)\n",
      "Requirement already satisfied: orjson<4.0.0,>=3.9.14 in c:\\users\\ajay khatri\\appdata\\local\\programs\\python\\python39\\lib\\site-packages (from langsmith<0.2.0,>=0.1.17->langchain) (3.10.3)\n",
      "Requirement already satisfied: annotated-types>=0.4.0 in c:\\users\\ajay khatri\\appdata\\local\\programs\\python\\python39\\lib\\site-packages (from pydantic<3,>=1->langchain) (0.7.0)\n",
      "Requirement already satisfied: pydantic-core==2.18.2 in c:\\users\\ajay khatri\\appdata\\local\\programs\\python\\python39\\lib\\site-packages (from pydantic<3,>=1->langchain) (2.18.2)\n",
      "Requirement already satisfied: typing-extensions>=4.6.1 in c:\\users\\ajay khatri\\appdata\\local\\programs\\python\\python39\\lib\\site-packages (from pydantic<3,>=1->langchain) (4.12.0)\n",
      "Requirement already satisfied: charset-normalizer<4,>=2 in c:\\users\\ajay khatri\\appdata\\local\\programs\\python\\python39\\lib\\site-packages (from requests<3,>=2->langchain) (3.3.2)\n",
      "Requirement already satisfied: idna<4,>=2.5 in c:\\users\\ajay khatri\\appdata\\local\\programs\\python\\python39\\lib\\site-packages (from requests<3,>=2->langchain) (3.7)\n",
      "Requirement already satisfied: urllib3<3,>=1.21.1 in c:\\users\\ajay khatri\\appdata\\local\\programs\\python\\python39\\lib\\site-packages (from requests<3,>=2->langchain) (2.2.1)\n",
      "Requirement already satisfied: certifi>=2017.4.17 in c:\\users\\ajay khatri\\appdata\\local\\programs\\python\\python39\\lib\\site-packages (from requests<3,>=2->langchain) (2024.2.2)\n",
      "Requirement already satisfied: greenlet!=0.4.17 in c:\\users\\ajay khatri\\appdata\\local\\programs\\python\\python39\\lib\\site-packages (from SQLAlchemy<3,>=1.4->langchain) (3.0.3)\n",
      "Requirement already satisfied: jsonpointer>=1.9 in c:\\users\\ajay khatri\\appdata\\local\\programs\\python\\python39\\lib\\site-packages (from jsonpatch<2.0,>=1.33->langchain-core<0.3.0,>=0.2.0->langchain) (2.4)\n"
     ]
    },
    {
     "name": "stderr",
     "output_type": "stream",
     "text": [
      "WARNING: Ignoring invalid distribution -ip (c:\\users\\ajay khatri\\appdata\\local\\programs\\python\\python39\\lib\\site-packages)\n",
      "WARNING: Ignoring invalid distribution -ip (c:\\users\\ajay khatri\\appdata\\local\\programs\\python\\python39\\lib\\site-packages)\n"
     ]
    }
   ],
   "source": [
    "pip install langchain"
   ]
  },
  {
   "cell_type": "code",
   "execution_count": 2,
   "id": "3d2859e5-d5fa-4499-861a-20c419c9dcaa",
   "metadata": {},
   "outputs": [],
   "source": [
    "from langchain.document_loaders import TextLoader"
   ]
  },
  {
   "cell_type": "code",
   "execution_count": 8,
   "id": "6c09f438-ea69-4244-99f6-347d79d1e162",
   "metadata": {},
   "outputs": [
    {
     "name": "stdout",
     "output_type": "stream",
     "text": [
      "Collecting unstructured\n",
      "  Downloading unstructured-0.14.2-py3-none-any.whl.metadata (31 kB)\n",
      "Collecting libmagic\n",
      "  Downloading libmagic-1.0.tar.gz (3.7 kB)\n",
      "  Preparing metadata (setup.py): started\n",
      "  Preparing metadata (setup.py): finished with status 'done'\n",
      "Collecting python-magic\n",
      "  Downloading python_magic-0.4.27-py2.py3-none-any.whl.metadata (5.8 kB)\n",
      "Collecting python-magic-bin\n",
      "  Downloading python_magic_bin-0.4.14-py2.py3-none-win_amd64.whl.metadata (710 bytes)\n",
      "Collecting chardet (from unstructured)\n",
      "  Downloading chardet-5.2.0-py3-none-any.whl.metadata (3.4 kB)\n",
      "Collecting filetype (from unstructured)\n",
      "  Downloading filetype-1.2.0-py2.py3-none-any.whl.metadata (6.5 kB)\n",
      "Collecting lxml (from unstructured)\n",
      "  Downloading lxml-5.2.2-cp39-cp39-win_amd64.whl.metadata (3.5 kB)\n",
      "Collecting nltk (from unstructured)\n",
      "  Downloading nltk-3.8.1-py3-none-any.whl.metadata (2.8 kB)\n",
      "Collecting tabulate (from unstructured)\n",
      "  Downloading tabulate-0.9.0-py3-none-any.whl.metadata (34 kB)\n",
      "Requirement already satisfied: requests in c:\\users\\ajay khatri\\appdata\\local\\programs\\python\\python39\\lib\\site-packages (from unstructured) (2.32.2)\n",
      "Requirement already satisfied: beautifulsoup4 in c:\\users\\ajay khatri\\appdata\\local\\programs\\python\\python39\\lib\\site-packages (from unstructured) (4.12.3)\n",
      "Collecting emoji (from unstructured)\n",
      "  Downloading emoji-2.12.1-py3-none-any.whl.metadata (5.4 kB)\n",
      "Requirement already satisfied: dataclasses-json in c:\\users\\ajay khatri\\appdata\\local\\programs\\python\\python39\\lib\\site-packages (from unstructured) (0.6.6)\n",
      "Collecting python-iso639 (from unstructured)\n",
      "  Downloading python_iso639-2024.4.27-py3-none-any.whl.metadata (13 kB)\n",
      "Collecting langdetect (from unstructured)\n",
      "  Downloading langdetect-1.0.9.tar.gz (981 kB)\n",
      "     ---------------------------------------- 0.0/981.5 kB ? eta -:--:--\n",
      "     -- ------------------------------------ 61.4/981.5 kB 3.2 MB/s eta 0:00:01\n",
      "     -------- ----------------------------- 225.3/981.5 kB 2.8 MB/s eta 0:00:01\n",
      "     -------------- ----------------------- 368.6/981.5 kB 2.9 MB/s eta 0:00:01\n",
      "     --------------------- ---------------- 542.7/981.5 kB 3.1 MB/s eta 0:00:01\n",
      "     ------------------------------ ------- 798.7/981.5 kB 3.6 MB/s eta 0:00:01\n",
      "     -------------------------------------  962.6/981.5 kB 3.6 MB/s eta 0:00:01\n",
      "     -------------------------------------- 981.5/981.5 kB 3.1 MB/s eta 0:00:00\n",
      "  Preparing metadata (setup.py): started\n",
      "  Preparing metadata (setup.py): finished with status 'done'\n",
      "Requirement already satisfied: numpy in c:\\users\\ajay khatri\\appdata\\local\\programs\\python\\python39\\lib\\site-packages (from unstructured) (1.26.4)\n",
      "Collecting rapidfuzz (from unstructured)\n",
      "  Downloading rapidfuzz-3.9.1-cp39-cp39-win_amd64.whl.metadata (11 kB)\n",
      "Requirement already satisfied: backoff in c:\\users\\ajay khatri\\appdata\\local\\programs\\python\\python39\\lib\\site-packages (from unstructured) (2.2.1)\n",
      "Requirement already satisfied: typing-extensions in c:\\users\\ajay khatri\\appdata\\local\\programs\\python\\python39\\lib\\site-packages (from unstructured) (4.12.0)\n",
      "Collecting unstructured-client (from unstructured)\n",
      "  Downloading unstructured_client-0.22.0-py3-none-any.whl.metadata (7.3 kB)\n",
      "Requirement already satisfied: wrapt in c:\\users\\ajay khatri\\appdata\\local\\programs\\python\\python39\\lib\\site-packages (from unstructured) (1.16.0)\n",
      "Requirement already satisfied: soupsieve>1.2 in c:\\users\\ajay khatri\\appdata\\local\\programs\\python\\python39\\lib\\site-packages (from beautifulsoup4->unstructured) (2.5)\n",
      "Requirement already satisfied: marshmallow<4.0.0,>=3.18.0 in c:\\users\\ajay khatri\\appdata\\local\\programs\\python\\python39\\lib\\site-packages (from dataclasses-json->unstructured) (3.21.2)\n",
      "Requirement already satisfied: typing-inspect<1,>=0.4.0 in c:\\users\\ajay khatri\\appdata\\local\\programs\\python\\python39\\lib\\site-packages (from dataclasses-json->unstructured) (0.9.0)\n",
      "Requirement already satisfied: six in c:\\users\\ajay khatri\\appdata\\local\\programs\\python\\python39\\lib\\site-packages (from langdetect->unstructured) (1.15.0)\n",
      "Requirement already satisfied: click in c:\\users\\ajay khatri\\appdata\\local\\programs\\python\\python39\\lib\\site-packages (from nltk->unstructured) (8.1.7)\n",
      "Requirement already satisfied: joblib in c:\\users\\ajay khatri\\appdata\\local\\programs\\python\\python39\\lib\\site-packages (from nltk->unstructured) (1.4.2)\n",
      "Requirement already satisfied: regex>=2021.8.3 in c:\\users\\ajay khatri\\appdata\\local\\programs\\python\\python39\\lib\\site-packages (from nltk->unstructured) (2024.5.15)\n",
      "Requirement already satisfied: tqdm in c:\\users\\ajay khatri\\appdata\\local\\programs\\python\\python39\\lib\\site-packages (from nltk->unstructured) (4.66.4)\n",
      "Requirement already satisfied: charset-normalizer<4,>=2 in c:\\users\\ajay khatri\\appdata\\local\\programs\\python\\python39\\lib\\site-packages (from requests->unstructured) (3.3.2)\n",
      "Requirement already satisfied: idna<4,>=2.5 in c:\\users\\ajay khatri\\appdata\\local\\programs\\python\\python39\\lib\\site-packages (from requests->unstructured) (3.7)\n",
      "Requirement already satisfied: urllib3<3,>=1.21.1 in c:\\users\\ajay khatri\\appdata\\local\\programs\\python\\python39\\lib\\site-packages (from requests->unstructured) (2.2.1)\n",
      "Requirement already satisfied: certifi>=2017.4.17 in c:\\users\\ajay khatri\\appdata\\local\\programs\\python\\python39\\lib\\site-packages (from requests->unstructured) (2024.2.2)\n",
      "Collecting deepdiff>=6.0 (from unstructured-client->unstructured)\n",
      "  Downloading deepdiff-7.0.1-py3-none-any.whl.metadata (6.8 kB)\n",
      "Collecting jsonpath-python>=1.0.6 (from unstructured-client->unstructured)\n",
      "  Downloading jsonpath_python-1.0.6-py3-none-any.whl.metadata (12 kB)\n",
      "Requirement already satisfied: mypy-extensions>=1.0.0 in c:\\users\\ajay khatri\\appdata\\local\\programs\\python\\python39\\lib\\site-packages (from unstructured-client->unstructured) (1.0.0)\n",
      "Requirement already satisfied: packaging>=23.1 in c:\\users\\ajay khatri\\appdata\\local\\programs\\python\\python39\\lib\\site-packages (from unstructured-client->unstructured) (23.2)\n",
      "Collecting pypdf>=4.0 (from unstructured-client->unstructured)\n",
      "  Downloading pypdf-4.2.0-py3-none-any.whl.metadata (7.4 kB)\n",
      "Requirement already satisfied: python-dateutil>=2.8.2 in c:\\users\\ajay khatri\\appdata\\local\\programs\\python\\python39\\lib\\site-packages (from unstructured-client->unstructured) (2.8.2)\n",
      "Collecting six (from langdetect->unstructured)\n",
      "  Downloading six-1.16.0-py2.py3-none-any.whl.metadata (1.8 kB)\n",
      "Collecting ordered-set<4.2.0,>=4.1.0 (from deepdiff>=6.0->unstructured-client->unstructured)\n",
      "  Downloading ordered_set-4.1.0-py3-none-any.whl.metadata (5.3 kB)\n",
      "Requirement already satisfied: colorama in c:\\users\\ajay khatri\\appdata\\local\\programs\\python\\python39\\lib\\site-packages (from click->nltk->unstructured) (0.4.6)\n",
      "Downloading unstructured-0.14.2-py3-none-any.whl (2.0 MB)\n",
      "   ---------------------------------------- 0.0/2.0 MB ? eta -:--:--\n",
      "   --- ------------------------------------ 0.2/2.0 MB 5.1 MB/s eta 0:00:01\n",
      "   ------ --------------------------------- 0.3/2.0 MB 4.9 MB/s eta 0:00:01\n",
      "   --------- ------------------------------ 0.5/2.0 MB 3.9 MB/s eta 0:00:01\n",
      "   ------------- -------------------------- 0.7/2.0 MB 4.6 MB/s eta 0:00:01\n",
      "   ----------------- ---------------------- 0.9/2.0 MB 4.3 MB/s eta 0:00:01\n",
      "   --------------------- ------------------ 1.1/2.0 MB 4.2 MB/s eta 0:00:01\n",
      "   ------------------------ --------------- 1.2/2.0 MB 4.2 MB/s eta 0:00:01\n",
      "   -------------------------- ------------- 1.3/2.0 MB 4.0 MB/s eta 0:00:01\n",
      "   ------------------------------ --------- 1.5/2.0 MB 3.8 MB/s eta 0:00:01\n",
      "   --------------------------------- ------ 1.6/2.0 MB 3.6 MB/s eta 0:00:01\n",
      "   ------------------------------------ --- 1.8/2.0 MB 3.7 MB/s eta 0:00:01\n",
      "   ---------------------------------------  2.0/2.0 MB 3.6 MB/s eta 0:00:01\n",
      "   ---------------------------------------  2.0/2.0 MB 3.6 MB/s eta 0:00:01\n",
      "   ---------------------------------------  2.0/2.0 MB 3.6 MB/s eta 0:00:01\n",
      "   ---------------------------------------- 2.0/2.0 MB 2.9 MB/s eta 0:00:00\n",
      "Downloading python_magic-0.4.27-py2.py3-none-any.whl (13 kB)\n",
      "Downloading python_magic_bin-0.4.14-py2.py3-none-win_amd64.whl (409 kB)\n",
      "   ---------------------------------------- 0.0/409.3 kB ? eta -:--:--\n",
      "   ------ --------------------------------- 61.4/409.3 kB 3.4 MB/s eta 0:00:01\n",
      "   --------------- ------------------------ 153.6/409.3 kB 2.3 MB/s eta 0:00:01\n",
      "   --------------------- ------------------ 215.0/409.3 kB 1.9 MB/s eta 0:00:01\n",
      "   ------------------------ --------------- 245.8/409.3 kB 1.7 MB/s eta 0:00:01\n",
      "   ------------------------ --------------- 245.8/409.3 kB 1.7 MB/s eta 0:00:01\n",
      "   ------------------------ --------------- 245.8/409.3 kB 1.7 MB/s eta 0:00:01\n",
      "   ------------------------ --------------- 245.8/409.3 kB 1.7 MB/s eta 0:00:01\n",
      "   ---------------------------------------  399.4/409.3 kB 1.2 MB/s eta 0:00:01\n",
      "   -------------------------------------- 409.3/409.3 kB 982.9 kB/s eta 0:00:00\n",
      "Downloading chardet-5.2.0-py3-none-any.whl (199 kB)\n",
      "   ---------------------------------------- 0.0/199.4 kB ? eta -:--:--\n",
      "   ------ -------------------------------- 30.7/199.4 kB 660.6 kB/s eta 0:00:01\n",
      "   ---------------- ---------------------- 81.9/199.4 kB 919.0 kB/s eta 0:00:01\n",
      "   ---------------- ---------------------- 81.9/199.4 kB 919.0 kB/s eta 0:00:01\n",
      "   --------------------- ---------------- 112.6/199.4 kB 544.7 kB/s eta 0:00:01\n",
      "   ------------------------------- ------ 163.8/199.4 kB 701.4 kB/s eta 0:00:01\n",
      "   -------------------------------------  194.6/199.4 kB 737.3 kB/s eta 0:00:01\n",
      "   -------------------------------------  194.6/199.4 kB 737.3 kB/s eta 0:00:01\n",
      "   -------------------------------------- 199.4/199.4 kB 549.8 kB/s eta 0:00:00\n",
      "Downloading emoji-2.12.1-py3-none-any.whl (431 kB)\n",
      "   ---------------------------------------- 0.0/431.4 kB ? eta -:--:--\n",
      "    --------------------------------------- 10.2/431.4 kB ? eta -:--:--\n",
      "   --- ----------------------------------- 41.0/431.4 kB 393.8 kB/s eta 0:00:01\n",
      "   ------- ------------------------------- 81.9/431.4 kB 508.4 kB/s eta 0:00:01\n",
      "   ---------- --------------------------- 122.9/431.4 kB 599.1 kB/s eta 0:00:01\n",
      "   ---------- --------------------------- 122.9/431.4 kB 599.1 kB/s eta 0:00:01\n",
      "   --------------- ---------------------- 174.1/431.4 kB 655.4 kB/s eta 0:00:01\n",
      "   ----------------- -------------------- 194.6/431.4 kB 562.0 kB/s eta 0:00:01\n",
      "   ------------------ ------------------- 215.0/431.4 kB 546.1 kB/s eta 0:00:01\n",
      "   -------------------- ----------------- 235.5/431.4 kB 553.5 kB/s eta 0:00:01\n",
      "   --------------------------- ---------- 307.2/431.4 kB 633.2 kB/s eta 0:00:01\n",
      "   -------------------------------- ----- 368.6/431.4 kB 716.8 kB/s eta 0:00:01\n",
      "   -------------------------------------  430.1/431.4 kB 745.7 kB/s eta 0:00:01\n",
      "   -------------------------------------  430.1/431.4 kB 745.7 kB/s eta 0:00:01\n",
      "   -------------------------------------- 431.4/431.4 kB 641.0 kB/s eta 0:00:00\n",
      "Downloading filetype-1.2.0-py2.py3-none-any.whl (19 kB)\n",
      "Downloading lxml-5.2.2-cp39-cp39-win_amd64.whl (3.8 MB)\n",
      "   ---------------------------------------- 0.0/3.8 MB ? eta -:--:--\n",
      "   - -------------------------------------- 0.1/3.8 MB 3.6 MB/s eta 0:00:02\n",
      "   - -------------------------------------- 0.2/3.8 MB 3.3 MB/s eta 0:00:02\n",
      "   - -------------------------------------- 0.2/3.8 MB 1.3 MB/s eta 0:00:03\n",
      "   -- ------------------------------------- 0.2/3.8 MB 1.3 MB/s eta 0:00:03\n",
      "   -- ------------------------------------- 0.3/3.8 MB 1.2 MB/s eta 0:00:03\n",
      "   --- ------------------------------------ 0.3/3.8 MB 1.3 MB/s eta 0:00:03\n",
      "   --- ------------------------------------ 0.4/3.8 MB 1.2 MB/s eta 0:00:03\n",
      "   ---- ----------------------------------- 0.4/3.8 MB 1.2 MB/s eta 0:00:03\n",
      "   ---- ----------------------------------- 0.4/3.8 MB 1.1 MB/s eta 0:00:04\n",
      "   ---- ----------------------------------- 0.5/3.8 MB 1.0 MB/s eta 0:00:04\n",
      "   ----- ---------------------------------- 0.5/3.8 MB 983.0 kB/s eta 0:00:04\n",
      "   ------ --------------------------------- 0.6/3.8 MB 1.1 MB/s eta 0:00:03\n",
      "   ------- -------------------------------- 0.7/3.8 MB 1.2 MB/s eta 0:00:03\n",
      "   -------- ------------------------------- 0.8/3.8 MB 1.3 MB/s eta 0:00:03\n",
      "   --------- ------------------------------ 0.9/3.8 MB 1.4 MB/s eta 0:00:03\n",
      "   ---------- ----------------------------- 1.0/3.8 MB 1.4 MB/s eta 0:00:02\n",
      "   ------------ --------------------------- 1.2/3.8 MB 1.5 MB/s eta 0:00:02\n",
      "   ------------- -------------------------- 1.3/3.8 MB 1.5 MB/s eta 0:00:02\n",
      "   -------------- ------------------------- 1.4/3.8 MB 1.6 MB/s eta 0:00:02\n",
      "   ---------------- ----------------------- 1.6/3.8 MB 1.7 MB/s eta 0:00:02\n",
      "   ------------------ --------------------- 1.7/3.8 MB 1.8 MB/s eta 0:00:02\n",
      "   ------------------- -------------------- 1.8/3.8 MB 1.8 MB/s eta 0:00:02\n",
      "   -------------------- ------------------- 1.9/3.8 MB 1.8 MB/s eta 0:00:02\n",
      "   --------------------- ------------------ 2.1/3.8 MB 1.9 MB/s eta 0:00:01\n",
      "   ---------------------- ----------------- 2.2/3.8 MB 1.9 MB/s eta 0:00:01\n",
      "   ------------------------ --------------- 2.4/3.8 MB 1.9 MB/s eta 0:00:01\n",
      "   ------------------------- -------------- 2.5/3.8 MB 2.0 MB/s eta 0:00:01\n",
      "   --------------------------- ------------ 2.6/3.8 MB 2.0 MB/s eta 0:00:01\n",
      "   --------------------------- ------------ 2.6/3.8 MB 2.0 MB/s eta 0:00:01\n",
      "   ---------------------------- ----------- 2.7/3.8 MB 1.9 MB/s eta 0:00:01\n",
      "   ---------------------------- ----------- 2.7/3.8 MB 1.9 MB/s eta 0:00:01\n",
      "   ----------------------------- ---------- 2.8/3.8 MB 1.9 MB/s eta 0:00:01\n",
      "   ----------------------------- ---------- 2.8/3.8 MB 1.8 MB/s eta 0:00:01\n",
      "   ------------------------------ --------- 2.9/3.8 MB 1.8 MB/s eta 0:00:01\n",
      "   -------------------------------- ------- 3.1/3.8 MB 1.9 MB/s eta 0:00:01\n",
      "   --------------------------------- ------ 3.2/3.8 MB 1.9 MB/s eta 0:00:01\n",
      "   ----------------------------------- ---- 3.4/3.8 MB 1.9 MB/s eta 0:00:01\n",
      "   ----------------------------------- ---- 3.4/3.8 MB 1.9 MB/s eta 0:00:01\n",
      "   ------------------------------------- -- 3.6/3.8 MB 2.0 MB/s eta 0:00:01\n",
      "   -------------------------------------- - 3.7/3.8 MB 2.0 MB/s eta 0:00:01\n",
      "   ---------------------------------------  3.7/3.8 MB 1.9 MB/s eta 0:00:01\n",
      "   ---------------------------------------  3.8/3.8 MB 1.9 MB/s eta 0:00:01\n",
      "   ---------------------------------------- 3.8/3.8 MB 1.9 MB/s eta 0:00:00\n",
      "Downloading nltk-3.8.1-py3-none-any.whl (1.5 MB)\n",
      "   ---------------------------------------- 0.0/1.5 MB ? eta -:--:--\n",
      "   ------ --------------------------------- 0.2/1.5 MB 7.4 MB/s eta 0:00:01\n",
      "   ---------- ----------------------------- 0.4/1.5 MB 5.0 MB/s eta 0:00:01\n",
      "   ------------ --------------------------- 0.5/1.5 MB 4.1 MB/s eta 0:00:01\n",
      "   ----------------- ---------------------- 0.7/1.5 MB 3.8 MB/s eta 0:00:01\n",
      "   --------------------- ------------------ 0.8/1.5 MB 3.7 MB/s eta 0:00:01\n",
      "   -------------------------- ------------- 1.0/1.5 MB 3.7 MB/s eta 0:00:01\n",
      "   ------------------------------- -------- 1.2/1.5 MB 3.6 MB/s eta 0:00:01\n",
      "   ------------------------------- -------- 1.2/1.5 MB 3.6 MB/s eta 0:00:01\n",
      "   ---------------------------------------  1.5/1.5 MB 3.5 MB/s eta 0:00:01\n",
      "   ---------------------------------------- 1.5/1.5 MB 3.3 MB/s eta 0:00:00\n",
      "Downloading python_iso639-2024.4.27-py3-none-any.whl (274 kB)\n",
      "   ---------------------------------------- 0.0/274.7 kB ? eta -:--:--\n",
      "   ------------------------------------- -- 256.0/274.7 kB 7.9 MB/s eta 0:00:01\n",
      "   ---------------------------------------- 274.7/274.7 kB 4.3 MB/s eta 0:00:00\n",
      "Downloading rapidfuzz-3.9.1-cp39-cp39-win_amd64.whl (1.7 MB)\n",
      "   ---------------------------------------- 0.0/1.7 MB ? eta -:--:--\n",
      "   ------ --------------------------------- 0.3/1.7 MB 8.6 MB/s eta 0:00:01\n",
      "   -------- ------------------------------- 0.3/1.7 MB 5.4 MB/s eta 0:00:01\n",
      "   -------- ------------------------------- 0.3/1.7 MB 5.4 MB/s eta 0:00:01\n",
      "   -------- ------------------------------- 0.3/1.7 MB 5.4 MB/s eta 0:00:01\n",
      "   -------- ------------------------------- 0.4/1.7 MB 1.5 MB/s eta 0:00:01\n",
      "   ---------- ----------------------------- 0.4/1.7 MB 1.5 MB/s eta 0:00:01\n",
      "   -------------- ------------------------- 0.6/1.7 MB 1.7 MB/s eta 0:00:01\n",
      "   ------------------- -------------------- 0.8/1.7 MB 2.1 MB/s eta 0:00:01\n",
      "   ----------------------- ---------------- 1.0/1.7 MB 2.3 MB/s eta 0:00:01\n",
      "   -------------------------- ------------- 1.1/1.7 MB 2.3 MB/s eta 0:00:01\n",
      "   -------------------------- ------------- 1.1/1.7 MB 2.1 MB/s eta 0:00:01\n",
      "   ---------------------------- ----------- 1.2/1.7 MB 2.0 MB/s eta 0:00:01\n",
      "   ---------------------------- ----------- 1.2/1.7 MB 2.0 MB/s eta 0:00:01\n",
      "   ------------------------------ --------- 1.3/1.7 MB 1.9 MB/s eta 0:00:01\n",
      "   ------------------------------- -------- 1.3/1.7 MB 1.9 MB/s eta 0:00:01\n",
      "   -------------------------------- ------- 1.4/1.7 MB 1.8 MB/s eta 0:00:01\n",
      "   ---------------------------------- ----- 1.4/1.7 MB 1.8 MB/s eta 0:00:01\n",
      "   ----------------------------------- ---- 1.5/1.7 MB 1.7 MB/s eta 0:00:01\n",
      "   ---------------------------------------  1.6/1.7 MB 1.8 MB/s eta 0:00:01\n",
      "   ---------------------------------------  1.6/1.7 MB 1.7 MB/s eta 0:00:01\n",
      "   ---------------------------------------- 1.7/1.7 MB 1.7 MB/s eta 0:00:00\n",
      "Downloading tabulate-0.9.0-py3-none-any.whl (35 kB)\n",
      "Downloading unstructured_client-0.22.0-py3-none-any.whl (28 kB)\n",
      "Downloading deepdiff-7.0.1-py3-none-any.whl (80 kB)\n",
      "   ---------------------------------------- 0.0/80.8 kB ? eta -:--:--\n",
      "   -------------------- ------------------- 41.0/80.8 kB 991.0 kB/s eta 0:00:01\n",
      "   ---------------------------------------- 80.8/80.8 kB 904.9 kB/s eta 0:00:00\n",
      "Downloading jsonpath_python-1.0.6-py3-none-any.whl (7.6 kB)\n",
      "Downloading pypdf-4.2.0-py3-none-any.whl (290 kB)\n",
      "   ---------------------------------------- 0.0/290.4 kB ? eta -:--:--\n",
      "   ----------- ---------------------------- 81.9/290.4 kB ? eta -:--:--\n",
      "   ------------ --------------------------- 92.2/290.4 kB 1.1 MB/s eta 0:00:01\n",
      "   ---------------------- ----------------- 163.8/290.4 kB 1.2 MB/s eta 0:00:01\n",
      "   --------------------------------- ------ 245.8/290.4 kB 1.4 MB/s eta 0:00:01\n",
      "   ---------------------------------------  286.7/290.4 kB 1.5 MB/s eta 0:00:01\n",
      "   ---------------------------------------  286.7/290.4 kB 1.5 MB/s eta 0:00:01\n",
      "   -------------------------------------- 290.4/290.4 kB 997.2 kB/s eta 0:00:00\n",
      "Downloading six-1.16.0-py2.py3-none-any.whl (11 kB)\n",
      "Downloading ordered_set-4.1.0-py3-none-any.whl (7.6 kB)\n",
      "Building wheels for collected packages: libmagic, langdetect\n",
      "  Building wheel for libmagic (setup.py): started\n",
      "  Building wheel for libmagic (setup.py): finished with status 'done'\n",
      "  Created wheel for libmagic: filename=libmagic-1.0-py3-none-any.whl size=4287 sha256=caa4a610c492f2509e9ae5f5c2fb35389fca9eb6e179e6747ab88fc5637c3609\n",
      "  Stored in directory: c:\\users\\ajay khatri\\appdata\\local\\pip\\cache\\wheels\\f8\\8a\\32\\b5e5458427778faf24ad32526c49e2dc5d20f32c96bf6ce236\n",
      "  Building wheel for langdetect (setup.py): started\n",
      "  Building wheel for langdetect (setup.py): finished with status 'done'\n",
      "  Created wheel for langdetect: filename=langdetect-1.0.9-py3-none-any.whl size=993221 sha256=334f87c796f7c5ef35679c59fe8b8161ac93f1d57b16f9d7b239cc04e81d0874\n",
      "  Stored in directory: c:\\users\\ajay khatri\\appdata\\local\\pip\\cache\\wheels\\d1\\c1\\d9\\7e068de779d863bc8f8fc9467d85e25cfe47fa5051fff1a1bb\n",
      "Successfully built libmagic langdetect\n",
      "Installing collected packages: python-magic-bin, libmagic, filetype, tabulate, six, rapidfuzz, python-magic, python-iso639, pypdf, ordered-set, lxml, jsonpath-python, emoji, chardet, nltk, langdetect, deepdiff, unstructured-client, unstructured\n",
      "  Attempting uninstall: six\n",
      "    Found existing installation: six 1.15.0\n",
      "    Uninstalling six-1.15.0:\n",
      "      Successfully uninstalled six-1.15.0\n",
      "Successfully installed chardet-5.2.0 deepdiff-7.0.1 emoji-2.12.1 filetype-1.2.0 jsonpath-python-1.0.6 langdetect-1.0.9 libmagic-1.0 lxml-5.2.2 nltk-3.8.1 ordered-set-4.1.0 pypdf-4.2.0 python-iso639-2024.4.27 python-magic-0.4.27 python-magic-bin-0.4.14 rapidfuzz-3.9.1 six-1.16.0 tabulate-0.9.0 unstructured-0.14.2 unstructured-client-0.22.0\n"
     ]
    },
    {
     "name": "stderr",
     "output_type": "stream",
     "text": [
      "WARNING: Ignoring invalid distribution -ip (c:\\users\\ajay khatri\\appdata\\local\\programs\\python\\python39\\lib\\site-packages)\n",
      "WARNING: Ignoring invalid distribution -ip (c:\\users\\ajay khatri\\appdata\\local\\programs\\python\\python39\\lib\\site-packages)\n"
     ]
    }
   ],
   "source": [
    "#installing necessary libraries, libmagic is used for file type detection\n",
    "!pip3 install unstructured libmagic python-magic python-magic-bin"
   ]
  },
  {
   "cell_type": "code",
   "execution_count": 10,
   "id": "b3e4aa58-6500-4aaa-af16-6ba5930609fd",
   "metadata": {},
   "outputs": [],
   "source": [
    "from langchain.document_loaders import UnstructuredURLLoader"
   ]
  },
  {
   "cell_type": "code",
   "execution_count": 11,
   "id": "bf641c57-5078-4e38-9c7b-21847187f668",
   "metadata": {},
   "outputs": [],
   "source": [
    "loader = UnstructuredURLLoader(\n",
    "    urls = [\n",
    "        \"https://www.moneycontrol.com/news/business/banks/hdfc-bank-re-appoints-sanmoy-chakrabarti-as-chief-risk-officer-11259771.html\",\n",
    "        \"https://www.moneycontrol.com/news/business/markets/market-corrects-post-rbi-ups-inflation-forecast-icrr-bet-on-these-top-10-rate-sensitive-stocks-ideas-11142611.html\"\n",
    "    ]\n",
    ")"
   ]
  },
  {
   "cell_type": "code",
   "execution_count": 14,
   "id": "2293ba85-0803-41e8-9c00-d35441dbf01c",
   "metadata": {},
   "outputs": [
    {
     "data": {
      "text/plain": [
       "2"
      ]
     },
     "execution_count": 14,
     "metadata": {},
     "output_type": "execute_result"
    }
   ],
   "source": [
    "data = loader.load()\n",
    "len(data)"
   ]
  },
  {
   "cell_type": "code",
   "execution_count": 13,
   "id": "f2808875-227a-49e1-971e-766da8308256",
   "metadata": {},
   "outputs": [
    {
     "data": {
      "text/plain": [
       "'English\\n\\nHindi\\n\\nGujarati\\n\\nSpecials\\n\\nMoneycontrol Trending Stock\\n\\nInfosys\\xa0INE009A01021, INFY, 500209\\n'"
      ]
     },
     "execution_count": 13,
     "metadata": {},
     "output_type": "execute_result"
    }
   ],
   "source": [
    "data[0].page_content[0:100]"
   ]
  },
  {
   "cell_type": "code",
   "execution_count": 17,
   "id": "76bb2182-27b9-49fb-8012-4b767830799d",
   "metadata": {},
   "outputs": [],
   "source": [
    "text = \"\"\"Interstellar is a 2014 epic science fiction film co-written, directed, and produced by Christopher Nolan. \n",
    "It stars Matthew McConaughey, Anne Hathaway, Jessica Chastain, Bill Irwin, Ellen Burstyn, Matt Damon, and Michael Caine. \n",
    "Set in a dystopian future where humanity is embroiled in a catastrophic blight and famine, the film follows a group of astronauts who travel through a wormhole near Saturn in search of a new home for humankind.\n",
    "\n",
    "Brothers Christopher and Jonathan Nolan wrote the screenplay, which had its origins in a script Jonathan developed in 2007 and was originally set to be directed by Steven Spielberg. \n",
    "Kip Thorne, a Caltech theoretical physicist and 2017 Nobel laureate in Physics,[4] was an executive producer, acted as a scientific consultant, and wrote a tie-in book, The Science of Interstellar. \n",
    "Cinematographer Hoyte van Hoytema shot it on 35 mm movie film in the Panavision anamorphic format and IMAX 70 mm. Principal photography began in late 2013 and took place in Alberta, Iceland, and Los Angeles. \n",
    "Interstellar uses extensive practical and miniature effects, and the company Double Negative created additional digital effects.\n",
    "\n",
    "Interstellar premiered in Los Angeles on October 26, 2014. In the United States, it was first released on film stock, expanding to venues using digital projectors. The film received generally positive reviews from critics and grossed over $677 million worldwide ($715 million after subsequent re-releases), making it the tenth-highest-grossing film of 2014. \n",
    "It has been praised by astronomers for its scientific accuracy and portrayal of theoretical astrophysics.[5][6][7] Interstellar was nominated for five awards at the 87th Academy Awards, winning Best Visual Effects, and received numerous other accolades.\"\"\""
   ]
  },
  {
   "cell_type": "code",
   "execution_count": 15,
   "id": "ab5464f7-02c3-4546-bd10-b4d6665ed4b8",
   "metadata": {},
   "outputs": [],
   "source": [
    "from langchain.text_splitter import CharacterTextSplitter"
   ]
  },
  {
   "cell_type": "code",
   "execution_count": 16,
   "id": "5219d423-a024-45e4-a32b-43216bf90ed6",
   "metadata": {},
   "outputs": [],
   "source": [
    "splitter = CharacterTextSplitter(\n",
    "    separator = \"\\n\",\n",
    "    chunk_size=200,\n",
    "    chunk_overlap=0\n",
    ")"
   ]
  },
  {
   "cell_type": "code",
   "execution_count": 18,
   "id": "7defa9ac-ce4f-4b13-93ab-2ba2238d69be",
   "metadata": {},
   "outputs": [
    {
     "name": "stderr",
     "output_type": "stream",
     "text": [
      "Created a chunk of size 210, which is longer than the specified 200\n",
      "Created a chunk of size 208, which is longer than the specified 200\n",
      "Created a chunk of size 358, which is longer than the specified 200\n"
     ]
    },
    {
     "data": {
      "text/plain": [
       "9"
      ]
     },
     "execution_count": 18,
     "metadata": {},
     "output_type": "execute_result"
    }
   ],
   "source": [
    "chunks = splitter.split_text(text)\n",
    "len(chunks)"
   ]
  },
  {
   "cell_type": "code",
   "execution_count": 19,
   "id": "07522b7c-79c2-4ef7-af8a-51f258eac5a5",
   "metadata": {},
   "outputs": [
    {
     "name": "stdout",
     "output_type": "stream",
     "text": [
      "105\n",
      "120\n",
      "210\n",
      "181\n",
      "197\n",
      "207\n",
      "128\n",
      "357\n",
      "253\n"
     ]
    }
   ],
   "source": [
    "for chunk in chunks:\n",
    "    print(len(chunk))"
   ]
  },
  {
   "cell_type": "code",
   "execution_count": 20,
   "id": "030d3f6b-8096-4895-907e-6e1b2e59325e",
   "metadata": {},
   "outputs": [],
   "source": [
    "from langchain.text_splitter import RecursiveCharacterTextSplitter"
   ]
  },
  {
   "cell_type": "code",
   "execution_count": 21,
   "id": "82eac4ef-a085-4765-bf69-eadc295f6d33",
   "metadata": {},
   "outputs": [],
   "source": [
    "r_splitter = RecursiveCharacterTextSplitter(\n",
    "    separators = [\"\\n\\n\", \"\\n\", \" \"],  # List of separators based on requirement (defaults to [\"\\n\\n\", \"\\n\", \" \"])\n",
    "    chunk_size = 200,  # size of each chunk created\n",
    "    chunk_overlap  = 0,  # size of  overlap between chunks in order to maintain the context\n",
    "    length_function = len  # Function to calculate size, currently we are using \"len\" which denotes length of string however you can pass any token counter)\n",
    ")"
   ]
  },
  {
   "cell_type": "code",
   "execution_count": 22,
   "id": "ad63f71e-3f9d-42be-808b-96969521680d",
   "metadata": {},
   "outputs": [
    {
     "name": "stdout",
     "output_type": "stream",
     "text": [
      "105\n",
      "120\n",
      "199\n",
      "10\n",
      "181\n",
      "197\n",
      "198\n",
      "8\n",
      "128\n",
      "191\n",
      "165\n",
      "198\n",
      "54\n"
     ]
    }
   ],
   "source": [
    "chunks = r_splitter.split_text(text)\n",
    "\n",
    "for chunk in chunks:\n",
    "    print(len(chunk))"
   ]
  },
  {
   "cell_type": "code",
   "execution_count": null,
   "id": "36f2dcc0-14b8-405f-bcbe-333110d7f1a3",
   "metadata": {},
   "outputs": [],
   "source": []
  }
 ],
 "metadata": {
  "kernelspec": {
   "display_name": "Python 3 (ipykernel)",
   "language": "python",
   "name": "python3"
  },
  "language_info": {
   "codemirror_mode": {
    "name": "ipython",
    "version": 3
   },
   "file_extension": ".py",
   "mimetype": "text/x-python",
   "name": "python",
   "nbconvert_exporter": "python",
   "pygments_lexer": "ipython3",
   "version": "3.9.2"
  }
 },
 "nbformat": 4,
 "nbformat_minor": 5
}
